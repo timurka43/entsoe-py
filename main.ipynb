{
 "cells": [
  {
   "cell_type": "markdown",
   "id": "f74a07f8-f999-404a-8b22-71233f32093c",
   "metadata": {},
   "source": [
    "# main.ipynb\n",
    "This notebook lets you use entsoe-py repository in a simple intuitive way.\n",
    "\n",
    "* Author: Timur Kasimov\n",
    "* Date Created: July 1, 2024\n",
    "* Date Updated: July 2024\n",
    "\n"
   ]
  },
  {
   "cell_type": "code",
   "execution_count": 1,
   "id": "3ff2c372-1f74-4628-bd18-e8241e9034d1",
   "metadata": {},
   "outputs": [],
   "source": [
    "# import necessary libraries and repo-internal scripts\n",
    "import plotter\n",
    "import sampler\n",
    "import scraper\n",
    "import psr_groups\n",
    "import country_groups\n",
    "import mykey\n",
    "import os\n",
    "\n",
    "if 'data' in os.listdir():\n",
    "    os.chdir('data')\n"
   ]
  },
  {
   "cell_type": "markdown",
   "id": "98dda67e-c4b0-44f3-be31-876fdba6ad09",
   "metadata": {},
   "source": [
    "## PLOTTING\n",
    "\n",
    "Plotting relies on data having been scraped and resampled to necessary **frequency and region**.\n",
    "\n",
    "* original raw data is country-specific and saved in ./data/country_name.xlsx\n",
    "* country specific data with specific frequency is saved in ./data/[FREQ]/[country_name freq].xlsx\n",
    "* region specific data with specified frequency is saved in ./data/combined/[region freq].xlsx\n",
    "  "
   ]
  },
  {
   "cell_type": "code",
   "execution_count": 4,
   "id": "dbf78ef7-532c-4073-82f7-6d7721e23cdb",
   "metadata": {
    "scrolled": true
   },
   "outputs": [],
   "source": [
    " ### REGION ###\n",
    "region = 'EU'   # name of the combined region as saved in excel files\n",
    "freq = '1M'     # frequency as saved in excel files\n",
    "\n",
    "\n",
    "### YEARS FOR MIN-MAX SPREAD AND MEAN LINE ###\n",
    "start_spread = 2015     \n",
    "end_spread = 2023   \n",
    "\n",
    "\n",
    "### GENERATION TYPE/GROUP ###\n",
    "psr_codes = psr_groups.SOLAR_WIND # group for type of generation (see psr_groups.py and mappings.py)\n",
    "psr_label = 'Solar, Wind' # custom label for generation type\n",
    "\n",
    "\n",
    "### YEAR-SPECIFIC LINES ###\n",
    "start_year = 2023\n",
    "end_year =2024\n",
    "\n",
    "\n",
    "### PLOTTING ###\n",
    "plotter.my_plot(region, freq, psr_codes, psr_label, range=(start_spread, end_spread), years=range(start_year, end_year+1), output_table_file=True)"
   ]
  },
  {
   "cell_type": "markdown",
   "id": "88e2ca51-0054-49d8-b1b9-d5c626f4ef0e",
   "metadata": {
    "jp-MarkdownHeadingCollapsed": true
   },
   "source": [
    "## REGION RESAMPLER\n",
    "This code aggregates data for a specific region (EU, TOP5EU, etc)\n",
    "* Relies on having the country-specific data of specified frequency"
   ]
  },
  {
   "cell_type": "code",
   "execution_count": null,
   "id": "3966ed34-02f9-4919-9cea-52395bfe0303",
   "metadata": {},
   "outputs": [],
   "source": [
    "country_codes = country_groups.EU\n",
    "# country_codes = ['RO']\n",
    "freq = '1M'\n",
    "start_year = 2015\n",
    "end_year = 2024\n",
    "\n",
    "\n",
    "# # records combined values for the region in the ./combined folder\n",
    "# aggregate_region(country_codes, freq, start_year, end_year, name='EU') "
   ]
  },
  {
   "cell_type": "markdown",
   "id": "6f3978b1-a8ce-4668-bfa8-17e6b2f6fcac",
   "metadata": {},
   "source": [
    "##  FREQUENCY RESAMPLER\n",
    "\n",
    "Changes the raw data to desired frequency data for all countries\n",
    "* the variable ```freq``` uses pandas frequencies:\n",
    "    * ```'1M'``` - 1 month\n",
    "    * ```'1W'``` - 1 Week\n",
    "    * ```'1D'``` - 1 Day\n",
    "\n",
    "  \n",
    "* set ```append``` to ```False``` if creating a new frequency format, to ```True``` if updating existing files with most recent data\n"
   ]
  },
  {
   "cell_type": "code",
   "execution_count": null,
   "id": "37586f92-ecf6-433b-96ac-1a25f9cfdd8b",
   "metadata": {},
   "outputs": [],
   "source": [
    "country_codes = country_groups.EU # all 27 EU countries\n",
    "# country_codes = ['PL'] # alternative specification\n",
    "freq = '1M' \n",
    "start_year = 2024 # earliest available is 2015\n",
    "end_year = 2024 \n",
    "\n",
    "\n",
    "# #########################################################\n",
    "# ### RUN THIS ONLY WHEN UPDATING COUNTRY-SPECIFIC DATA ###\n",
    "# #########################################################\n",
    "# # records new frequency for each country in a respective folder\n",
    "# sampler.record_new_frequency(country_codes, freq, start_year, end_year, append=False)"
   ]
  },
  {
   "cell_type": "markdown",
   "id": "73541aa5-f11a-43be-8ed3-006ae7e4ef4a",
   "metadata": {
    "jp-MarkdownHeadingCollapsed": true
   },
   "source": [
    "## SCRAPER\n",
    "\n",
    "This code pulls data directly from ENTSO-E platform. Use this to update the generation values\n",
    "for the most recent year at once \n",
    "\n",
    "**THIS CODE TAKES A LONG TIME TO RUN**\n"
   ]
  },
  {
   "cell_type": "code",
   "execution_count": null,
   "id": "89074b48-bd0d-4fd6-9a1a-216eea3ab444",
   "metadata": {},
   "outputs": [],
   "source": [
    "ent_app = ent.Entsoe(KEY) # my api key/token\n",
    "\n",
    "start = 2024 # 2015 is the earliest year available\n",
    "end = 2024 # current year is the latest available\n",
    "\n",
    "country_code_list = country_groups.EU\n",
    "# country_code_list = ['RO']\n",
    "\n",
    "\n",
    "\n",
    "# scraper.generation_scraper(start, end, country_code_list)"
   ]
  }
 ],
 "metadata": {
  "kernelspec": {
   "display_name": "Python 3 (ipykernel)",
   "language": "python",
   "name": "python3"
  },
  "language_info": {
   "codemirror_mode": {
    "name": "ipython",
    "version": 3
   },
   "file_extension": ".py",
   "mimetype": "text/x-python",
   "name": "python",
   "nbconvert_exporter": "python",
   "pygments_lexer": "ipython3",
   "version": "3.11.7"
  }
 },
 "nbformat": 4,
 "nbformat_minor": 5
}
